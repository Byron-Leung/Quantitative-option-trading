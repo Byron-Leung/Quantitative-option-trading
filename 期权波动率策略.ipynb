{
 "cells": [
  {
   "cell_type": "code",
   "execution_count": 1,
   "metadata": {},
   "outputs": [],
   "source": [
    "import pandas as pd\n",
    "import numpy as np\n",
    "import matplotlib.pyplot as plt\n",
    "from datetime import *\n",
    "import math"
   ]
  },
  {
   "cell_type": "code",
   "execution_count": 2,
   "metadata": {},
   "outputs": [],
   "source": [
    "#%%从万德下载下来的数据\n",
    "etf_close=pd.read_excel(\"50ETF.xlsx\",\"close\")#50ETF，期间每个交易日的收盘价\n",
    "etf_ivx=pd.read_excel(\"50ETF.xlsx\",\"ivx\")#ivx是波动率（隐含波动率）\n",
    "etf_hv=pd.read_excel(\"50ETF.xlsx\",\"hv30\")#期权对应标的的30天历史波动率，用历史波动率与隐含波动率对比寻找交易机会\n",
    "lastdate=pd.read_excel(\"50ETF.xlsx\",\"ETF_option_lasttradingdate\")#最后的交易日\n",
    "etf_option_name=pd.read_excel(\"50ETF.xlsx\",\"at_money_name\")#记录每个日期相应平值期权对应的名字"
   ]
  },
  {
   "cell_type": "code",
   "execution_count": 5,
   "metadata": {},
   "outputs": [],
   "source": [
    "#%%\n",
    "##preprocessing，填补缺失值\n",
    "#日期由近到远遍历缺失值，然后填补\n",
    "for j in range(1,len(etf_close.columns.tolist())):\n",
    "    for i in range(len(etf_close.date.values.tolist())-1,0,-1):\n",
    "        if math.isnan(etf_close.iat[i,j]) and math.isnan(etf_close.iat[i-1,j]):\n",
    "            etf_close.iat[i,j]= etf_close.iat[i+1,j]\n",
    "        elif math.isnan(etf_close.iat[i,j]) and math.isnan(etf_close.iat[i-1,j])==False:\n",
    "            etf_close.iat[i,j]=(etf_close.iat[i-1,j]+etf_close.iat[i+1,j])/2"
   ]
  },
  {
   "cell_type": "code",
   "execution_count": 6,
   "metadata": {},
   "outputs": [],
   "source": [
    "fee = 5.0 #手续费设定为五元\n",
    "slippage = 5.0 #滑点\n",
    "capital = 1000000.0 #\n",
    "size=50#每次做50手straddle\n",
    "option_value=0 #期权默认初始值为0\n",
    "remain_money=capital #账户现有资金，用于记录盈亏情况\n",
    "total_money = [remain_money]\n",
    "trade_option = pd.DataFrame()\n",
    "### 回测参数设置\n",
    "open_b = 1.5 #比实线波动率高多少倍的标准差就入场\n",
    "close_b = 0.0001 #标准差为0.0001的时候选择平仓（因为趋势可能反转）"
   ]
  },
  {
   "cell_type": "code",
   "execution_count": 7,
   "metadata": {},
   "outputs": [],
   "source": [
    "def add_open(num,call_name,put_name):#判断正在开仓的合约状态\n",
    "    global trade_option\n",
    "    if trade_option.empty:\n",
    "        t = pd.Series([call_name,put_name,num], index=[\"call\",\"put\",\"size\"])\n",
    "        trade_option = trade_option.append(t, ignore_index=True)\n",
    "    else:\n",
    "        if call_name not in trade_option['call'].values:\n",
    "            t = pd.Series([call_name,put_name,num], index=[\"call\",\"put\",\"size\"])\n",
    "            trade_option = trade_option.append(t, ignore_index=True)\n",
    "    return trade_option"
   ]
  },
  {
   "cell_type": "code",
   "execution_count": 8,
   "metadata": {},
   "outputs": [],
   "source": [
    "d = []#记录交易日期\n",
    "trade_content = []#记录交易内容\n",
    "trade_posit = []#记录状态"
   ]
  },
  {
   "cell_type": "code",
   "execution_count": 9,
   "metadata": {},
   "outputs": [],
   "source": [
    "def straddle(date,posit,call_name,put_name):#资金处理，定义买卖跨式期权，回测利用收盘价交易\n",
    "    global size,trade_option\n",
    "    call_close = etf_close[etf_close.date==date][call_name].values[0]\n",
    "    put_close = etf_close[etf_close.date==date][put_name].values[0]\n",
    "    if posit==\"buy\": #买跨式期权\n",
    "        num=size\n",
    "        add_open(num,call_name,put_name)\n",
    "        d.append(date)\n",
    "        trade_posit.append(\"buy\")\n",
    "        trade_content.append('buy: ' + str(call_name) + ' and buy' + str(put_name))\n",
    "        print(str(date) + 'buy: ' + str(call_name) + ' and buy ' + str(put_name))\n",
    "        money_chg=-10000.0*size*call_close-10000.0*size*put_close\n",
    "    elif posit==\"sell\":#卖跨式期权\n",
    "        num=-size\n",
    "        add_open(num,call_name,put_name)\n",
    "        d.append(date)\n",
    "        trade_posit.append(\"sell\")\n",
    "        trade_content.append( 'sell: ' + str(call_name) + ' and sell' + str(put_name))\n",
    "        print(str(date) + 'sell: ' + str(call_name) + ' and sell ' + str(put_name))\n",
    "        money_chg=10000.0*size*call_close+10000.0*size*put_close\n",
    "    elif posit==\"close buy\":#冲销多头——卖出期权\n",
    "        trade_option=trade_option[trade_option['call']!=call_name]\n",
    "        d.append(date)\n",
    "        trade_posit.append(\"close buy\")\n",
    "        trade_content.append( 'close buy: ' + str(call_name) + ' and sell' + str(put_name))\n",
    "        print(str(date) + 'close buy: ' + str(call_name) + ' and close buy ' + str(put_name))\n",
    "        money_chg=10000.0*size*call_close+10000.0*size*put_close\n",
    "    elif posit==\"close sell\":#冲销空头——买入期权\n",
    "        trade_option=trade_option[trade_option['call']!=call_name]\n",
    "        d.append(date)\n",
    "        trade_posit.append(\"close sell\")\n",
    "        trade_content.append( 'close sell: ' + str(call_name) + ' and buy' + str(put_name))\n",
    "        print(str(date) + 'close sell: ' + str(call_name) + ' and close sell ' + str(put_name))\n",
    "        money_chg=-10000.0*size*call_close-10000.0*size*put_close\n",
    "\n",
    "    return money_chg - 2 * size * fee - 2 * size * slippage / 2.0 \n",
    "#策略考虑了滑点，因为最终成交不一定是收盘价，应该在收盘价附近波动"
   ]
  },
  {
   "cell_type": "markdown",
   "metadata": {},
   "source": [
    "### 可视化"
   ]
  },
  {
   "cell_type": "code",
   "execution_count": 10,
   "metadata": {},
   "outputs": [
    {
     "data": {
      "image/png": "[encoded data removed]",
      "text/plain": [
       "<Figure size 432x288 with 1 Axes>"
      ]
     },
     "metadata": {
      "needs_background": "light"
     },
     "output_type": "display_data"
    }
   ],
   "source": [
    "#构造长（20日）短（5日）均线\n",
    "#短均线\n",
    "ma5 = [0,0,0,0,0]\n",
    "a = 0\n",
    "for i in np.arange(5,905,1):\n",
    "    ma5.append((etf_hv.hv[i-1]+etf_hv.hv[i-2]+etf_hv.hv[i-3]+etf_hv.hv[i-4]+etf_hv.hv[i-5])/5)#添加均线\n",
    "#长均线    \n",
    "ma20 = [0,0,0,0,0,0,0,0,0,0,0,0,0,0,0,0,0,0,0,0]#头20个都是0\n",
    "b = 0\n",
    "for i in np.arange(20,905,1):\n",
    "    for j in np.arange(1,21):\n",
    "        b += etf_hv.hv[i-j]\n",
    "    ma20.append(b/20)\n",
    "    b = 0\n",
    "\n",
    "\n",
    "#plot ma5 and ma20\n",
    "plt.title('Moving Average Lines')\n",
    "plt.plot(etf_hv.date, ma5, linestyle = '-.',color='black', label='MA5')\n",
    "plt.plot(etf_hv.date, ma20,color='red', label='MA20')\n",
    "plt.legend() \n",
    "plt.xlabel('Date')\n",
    "plt.ylabel('Average hv')\n",
    "plt.savefig(\"MAL.png\")\n",
    "plt.show()"
   ]
  },
  {
   "cell_type": "code",
   "execution_count": 11,
   "metadata": {},
   "outputs": [
    {
     "data": {
      "image/png": "[encoded data removed]",
      "text/plain": [
       "<Figure size 432x288 with 1 Axes>"
      ]
     },
     "metadata": {
      "needs_background": "light"
     },
     "output_type": "display_data"
    }
   ],
   "source": [
    "#计算ivx\n",
    "#构造ivx曲线\n",
    "ivxl = []\n",
    "#计算ivx的函数\n",
    "def cal_ivx(date):#平值期权的隐含波动率\n",
    "    call_name=etf_option_name[etf_option_name.date==date]['call'].values[0]\n",
    "    put_name=etf_option_name[etf_option_name.date==date]['put'].values[0]\n",
    "    call_ivx = etf_ivx[etf_ivx.date==date][call_name].values[0]\n",
    "    put_ivx = etf_ivx[etf_ivx.date==date][put_name].values[0]\n",
    "    return ((call_ivx + put_ivx )/2)\n",
    "\n",
    "### 画出平值附近期权的隐波\n",
    "for date in etf_option_name.date.values:\n",
    "    ivxl.append(cal_ivx(date))\n",
    "    \n",
    "        \n",
    "#plot ivx\n",
    "plt.title('ivx line')\n",
    "plt.plot(etf_option_name.date, ivxl, label = 'ivx')\n",
    "plt.legend()\n",
    "plt.xlabel('Date')\n",
    "plt.ylabel('ivx')\n",
    "plt.savefig(\"ivx.png\")\n",
    "plt.show()"
   ]
  },
  {
   "cell_type": "code",
   "execution_count": 12,
   "metadata": {},
   "outputs": [],
   "source": [
    "#连接成DataFrame\n",
    "c = {\"number\":range(905), \"date\":etf_hv.date, \"ma5\":ma5, \"ma20\":ma20}\n",
    "etf_hv1 = pd.DataFrame(c)"
   ]
  },
  {
   "cell_type": "code",
   "execution_count": 13,
   "metadata": {},
   "outputs": [],
   "source": [
    "#计算hv的标准差(时段为20天)\n",
    "hv30plus=etf_hv['hv'].values.tolist()\n",
    "hv30_std = [(np.array(hv30plus)[i:i+20]).std() for i in range(len(hv30plus))]"
   ]
  },
  {
   "cell_type": "code",
   "execution_count": 14,
   "metadata": {},
   "outputs": [],
   "source": [
    "#数据处理完成\n",
    "#开仓平仓逻辑、交易\n",
    "def handle_ivx(date):\n",
    "    global remain_money\n",
    "    hv = etf_hv[etf_hv.date==date]['hv'].values[0]\n",
    "    hvstd = etf_hv[etf_hv.date==date]['hv_std'].values[0]\n",
    "    call_name=etf_option_name[etf_option_name.date==date]['call'].values[0]\n",
    "    put_name=etf_option_name[etf_option_name.date==date]['put'].values[0]\n",
    "    call_ivx = etf_ivx[etf_ivx.date==date][call_name].values[0]\n",
    "    put_ivx = etf_ivx[etf_ivx.date==date][put_name].values[0]\n",
    "    ivx= (call_ivx + put_ivx )/2\n",
    "    option_value=0\n",
    "    number = int(etf_hv1[etf_hv1.date==date].number)\n",
    "    \n",
    "    ### 开仓： 条件加滤网，满足突破一定的标准差与突破自身段时间内波动率，因为入场条件是互斥的，所以用if，elif，else结构\n",
    "    if trade_option.empty:\n",
    "        if ivx > hv + open_b * hvstd and (ivx>etf_hv1.ma20[number]) :\n",
    "            # 条件 + 滤网\n",
    "            #如果现在隐含波动率大于20天内历史波动率+1.5倍历史波动率的标准差 & 现在的波动率大于过去20日均线的波动率\n",
    "            call_close = etf_close[etf_close.date == date][call_name].values[0]\n",
    "            put_close = etf_close[etf_close.date == date][put_name].values[0]\n",
    "            posit = 'sell'\n",
    "            change = straddle(date,posit,call_name,put_name) #记录消耗的资金\n",
    "            option_value = option_value - 10000.0 * size * call_close - 10000.0 * size * put_close#记录期权价值\n",
    "        elif ivx < hv - open_b * hvstd and (ivx<etf_hv1.ma20[number]):\n",
    "            #入场条件现在隐含波动率是小于20天内历史波动率 - 1.5倍标准差 & 小于20天长均线的移动平均的均值\n",
    "            call_close = etf_close[etf_close.date == date][call_name].values[0]\n",
    "            put_close = etf_close[etf_close.date == date][put_name].values[0]\n",
    "            posit = 'buy'\n",
    "            change= straddle(date,posit,call_name,put_name)\n",
    "            option_value = option_value + 10000.0 * size * call_close + 10000.0 *size * put_close\n",
    "        else:\n",
    "            change=0\n",
    "    else:\n",
    "\n",
    "\n",
    "    #平仓逻辑： 1.到期   2.波动率均值回归\n",
    "        for call_name in trade_option['call']:\n",
    "            num=trade_option[trade_option['call']==call_name][\"size\"].values.tolist()[0]\n",
    "            put_name=trade_option[trade_option['call']==call_name][\"put\"].values.tolist()[0]\n",
    "\n",
    "            if ( hv-close_b *hvstd < ivx < hv + close_b *hvstd or expire(call_name,date)==\"T\" )and num >0:\n",
    "                #波动率回归正常\n",
    "                posit = 'close buy'\n",
    "                change = straddle(date,posit,call_name,put_name)\n",
    "            elif (hv < ivx < etf_hv1.ma20[number]  or expire(call_name,date)==\"T\" )and num <0:\n",
    "                #波动率回归正常，隐含波动率回归到了历史均值和20天移动均线的范围内，注意满足一个条件就平仓\n",
    "                posit = 'close sell'\n",
    "                change = straddle(date,posit,call_name,put_name)\n",
    "            else:\n",
    "                call_close = etf_close[etf_close.date == date][call_name].values[0]\n",
    "                put_close = etf_close[etf_close.date == date][put_name].values[0]\n",
    "                option_value=option_value+10000.0*num*call_close+10000.0*num*put_close\n",
    "                change=0\n",
    "\n",
    "    remain_money += change #结算\n",
    "    total_money.append(remain_money + option_value) \n",
    "    #记录每天的资金变化，结算只有交易时候才会变化，option value一直都在变化，需要被记录下来"
   ]
  },
  {
   "cell_type": "code",
   "execution_count": 15,
   "metadata": {},
   "outputs": [],
   "source": [
    "#判断看涨期权是否到期的函数\n",
    "def expire(call_name,date):\n",
    "    if date in lastdate.lasttradingdate.values and (call_name in lastdate[lastdate.lasttradingdate == date]['symbol'].values):\n",
    "        expireTF=\"T\"\n",
    "    else:\n",
    "        expireTF=\"F\"\n",
    "    return expireTF"
   ]
  },
  {
   "cell_type": "code",
   "execution_count": 16,
   "metadata": {},
   "outputs": [
    {
     "name": "stdout",
     "output_type": "stream",
     "text": [
      "2015-02-12T00:00:00.000000000buy: 50ETF购2015年3月2.40 and buy 50ETF沽2015年3月2.40\n",
      "2015-03-25T00:00:00.000000000close buy: 50ETF购2015年3月2.40 and close buy 50ETF沽2015年3月2.40\n",
      "2015-04-08T00:00:00.000000000sell: 50ETF购2015年4月2.90 and sell 50ETF沽2015年4月2.90\n",
      "2015-04-22T00:00:00.000000000close sell: 50ETF购2015年4月2.90 and close sell 50ETF沽2015年4月2.90\n",
      "2015-04-23T00:00:00.000000000sell: 50ETF购2015年5月3.20 and sell 50ETF沽2015年5月3.20\n",
      "2015-05-27T00:00:00.000000000close sell: 50ETF购2015年5月3.20 and close sell 50ETF沽2015年5月3.20\n",
      "2015-05-28T00:00:00.000000000sell: 50ETF购2015年6月3.10 and sell 50ETF沽2015年6月3.10\n",
      "2015-06-24T00:00:00.000000000close sell: 50ETF购2015年6月3.10 and close sell 50ETF沽2015年6月3.10\n",
      "2015-06-25T00:00:00.000000000sell: 50ETF购2015年7月2.90 and sell 50ETF沽2015年7月2.90\n",
      "2015-07-22T00:00:00.000000000close sell: 50ETF购2015年7月2.90 and close sell 50ETF沽2015年7月2.90\n",
      "2015-07-23T00:00:00.000000000buy: 50ETF购2015年8月2.75 and buy 50ETF沽2015年8月2.80\n",
      "2015-08-26T00:00:00.000000000close buy: 50ETF购2015年8月2.75 and close buy 50ETF沽2015年8月2.80\n",
      "2015-09-01T00:00:00.000000000sell: 50ETF购2015年9月2.25 and sell 50ETF沽2015年9月2.25\n",
      "2015-09-23T00:00:00.000000000close sell: 50ETF购2015年9月2.25 and close sell 50ETF沽2015年9月2.25\n",
      "2015-09-24T00:00:00.000000000buy: 50ETF购2015年10月2.20 and buy 50ETF沽2015年10月2.20\n",
      "2015-10-28T00:00:00.000000000close buy: 50ETF购2015年10月2.20 and close buy 50ETF沽2015年10月2.20\n",
      "2015-11-18T00:00:00.000000000sell: 50ETF购2015年11月2.45 and sell 50ETF沽2015年11月2.45\n",
      "2015-11-24T00:00:00.000000000close sell: 50ETF购2015年11月2.45 and close sell 50ETF沽2015年11月2.45\n",
      "2015-11-25T00:00:00.000000000sell: 50ETF购2015年12月2.45 and sell 50ETF沽2015年12月2.45\n",
      "2015-12-23T00:00:00.000000000close sell: 50ETF购2015年12月2.45 and close sell 50ETF沽2015年12月2.45\n",
      "2015-12-30T00:00:00.000000000buy: 50ETF购2016年1月2.40 and buy 50ETF沽2016年1月2.40\n",
      "2016-01-27T00:00:00.000000000close buy: 50ETF购2016年1月2.40 and close buy 50ETF沽2016年1月2.40\n",
      "2016-02-01T00:00:00.000000000buy: 50ETF购2016年2月1.95 and buy 50ETF沽2016年2月1.95\n",
      "2016-02-24T00:00:00.000000000close buy: 50ETF购2016年2月1.95 and close buy 50ETF沽2016年2月1.95\n",
      "2016-02-25T00:00:00.000000000buy: 50ETF购2016年3月1.95 and buy 50ETF沽2016年3月1.95\n",
      "2016-03-23T00:00:00.000000000close buy: 50ETF购2016年3月1.95 and close buy 50ETF沽2016年3月1.95\n",
      "2016-04-27T00:00:00.000000000sell: 50ETF购2016年5月2.15 and sell 50ETF沽2016年5月2.15\n",
      "2016-04-28T00:00:00.000000000close sell: 50ETF购2016年5月2.15 and close sell 50ETF沽2016年5月2.15\n",
      "2016-05-09T00:00:00.000000000sell: 50ETF购2016年5月2.05 and sell 50ETF沽2016年5月2.05\n",
      "2016-05-19T00:00:00.000000000close sell: 50ETF购2016年5月2.05 and close sell 50ETF沽2016年5月2.05\n",
      "2016-05-20T00:00:00.000000000sell: 50ETF购2016年5月2.10 and sell 50ETF沽2016年5月2.10\n",
      "2016-05-25T00:00:00.000000000close sell: 50ETF购2016年5月2.10 and close sell 50ETF沽2016年5月2.10\n",
      "2016-05-26T00:00:00.000000000sell: 50ETF购2016年6月2.05 and sell 50ETF沽2016年6月2.05\n",
      "2016-06-22T00:00:00.000000000close sell: 50ETF购2016年6月2.05 and close sell 50ETF沽2016年6月2.05\n",
      "2016-06-23T00:00:00.000000000sell: 50ETF购2016年7月2.10 and sell 50ETF沽2016年7月2.10\n",
      "2016-07-15T00:00:00.000000000close sell: 50ETF购2016年7月2.10 and close sell 50ETF沽2016年7月2.10\n",
      "2016-07-18T00:00:00.000000000sell: 50ETF购2016年7月2.25 and sell 50ETF沽2016年7月2.25\n",
      "2016-07-19T00:00:00.000000000close sell: 50ETF购2016年7月2.25 and close sell 50ETF沽2016年7月2.25\n",
      "2016-07-22T00:00:00.000000000buy: 50ETF购2016年7月2.20 and buy 50ETF沽2016年7月2.20\n",
      "2016-07-27T00:00:00.000000000close buy: 50ETF购2016年7月2.20 and close buy 50ETF沽2016年7月2.20\n",
      "2016-07-28T00:00:00.000000000sell: 50ETF购2016年8月2.20 and sell 50ETF沽2016年8月2.20\n",
      "2016-08-05T00:00:00.000000000close sell: 50ETF购2016年8月2.20 and close sell 50ETF沽2016年8月2.20\n",
      "2016-08-15T00:00:00.000000000sell: 50ETF购2016年8月2.35 and sell 50ETF沽2016年8月2.35\n",
      "2016-08-24T00:00:00.000000000close sell: 50ETF购2016年8月2.35 and close sell 50ETF沽2016年8月2.35\n",
      "2016-08-25T00:00:00.000000000sell: 50ETF购2016年9月2.25 and sell 50ETF沽2016年9月2.25\n",
      "2016-09-13T00:00:00.000000000close sell: 50ETF购2016年9月2.25 and close sell 50ETF沽2016年9月2.25\n",
      "2016-09-20T00:00:00.000000000buy: 50ETF购2016年9月2.25 and buy 50ETF沽2016年9月2.25\n",
      "2016-09-28T00:00:00.000000000close buy: 50ETF购2016年9月2.25 and close buy 50ETF沽2016年9月2.25\n",
      "2016-09-30T00:00:00.000000000sell: 50ETF购2016年10月2.25 and sell 50ETF沽2016年10月2.25\n",
      "2016-10-11T00:00:00.000000000close sell: 50ETF购2016年10月2.25 and close sell 50ETF沽2016年10月2.25\n",
      "2016-10-17T00:00:00.000000000sell: 50ETF购2016年10月2.30 and sell 50ETF沽2016年10月2.30\n",
      "2016-10-21T00:00:00.000000000close sell: 50ETF购2016年10月2.30 and close sell 50ETF沽2016年10月2.30\n",
      "2016-10-25T00:00:00.000000000buy: 50ETF购2016年10月2.30 and buy 50ETF沽2016年10月2.30\n",
      "2016-10-26T00:00:00.000000000close buy: 50ETF购2016年10月2.30 and close buy 50ETF沽2016年10月2.30\n",
      "2016-11-02T00:00:00.000000000sell: 50ETF购2016年11月2.30 and sell 50ETF沽2016年11月2.30\n",
      "2016-11-23T00:00:00.000000000close sell: 50ETF购2016年11月2.30 and close sell 50ETF沽2016年11月2.30\n",
      "2016-11-24T00:00:00.000000000sell: 50ETF购2016年12月2.45 and sell 50ETF沽2016年12月2.45\n",
      "2016-12-28T00:00:00.000000000close sell: 50ETF购2016年12月2.45 and close sell 50ETF沽2016年12月2.45\n",
      "2016-12-29T00:00:00.000000000sell: 50ETF购2017年1月2.30 and sell 50ETF沽2017年1月2.30\n",
      "2017-01-11T00:00:00.000000000close sell: 50ETF购2017年1月2.30 and close sell 50ETF沽2017年1月2.30\n",
      "2017-01-13T00:00:00.000000000buy: 50ETF购2017年1月2.30 and buy 50ETF沽2017年1月2.30\n",
      "2017-01-25T00:00:00.000000000close buy: 50ETF购2017年1月2.30 and close buy 50ETF沽2017年1月2.30\n",
      "2017-02-13T00:00:00.000000000sell: 50ETF购2017年2月2.40 and sell 50ETF沽2017年2月2.40\n",
      "2017-02-14T00:00:00.000000000close sell: 50ETF购2017年2月2.40 and close sell 50ETF沽2017年2月2.40\n",
      "2017-02-16T00:00:00.000000000sell: 50ETF购2017年2月2.35 and sell 50ETF沽2017年2月2.35\n",
      "2017-02-17T00:00:00.000000000close sell: 50ETF购2017年2月2.35 and close sell 50ETF沽2017年2月2.35\n",
      "2017-02-20T00:00:00.000000000sell: 50ETF购2017年2月2.40 and sell 50ETF沽2017年2月2.40\n",
      "2017-02-22T00:00:00.000000000close sell: 50ETF购2017年2月2.40 and close sell 50ETF沽2017年2月2.40\n",
      "2017-02-24T00:00:00.000000000sell: 50ETF购2017年3月2.40 and sell 50ETF沽2017年3月2.40\n",
      "2017-03-22T00:00:00.000000000close sell: 50ETF购2017年3月2.40 and close sell 50ETF沽2017年3月2.40\n",
      "2017-03-27T00:00:00.000000000sell: 50ETF购2017年4月2.35 and sell 50ETF沽2017年4月2.35\n",
      "2017-04-26T00:00:00.000000000close sell: 50ETF购2017年4月2.35 and close sell 50ETF沽2017年4月2.35\n",
      "2017-04-28T00:00:00.000000000sell: 50ETF购2017年5月2.35 and sell 50ETF沽2017年5月2.35\n",
      "2017-05-04T00:00:00.000000000close sell: 50ETF购2017年5月2.35 and close sell 50ETF沽2017年5月2.35\n",
      "2017-05-11T00:00:00.000000000sell: 50ETF购2017年5月2.35 and sell 50ETF沽2017年5月2.35\n",
      "2017-05-24T00:00:00.000000000close sell: 50ETF购2017年5月2.35 and close sell 50ETF沽2017年5月2.35\n",
      "2017-05-25T00:00:00.000000000buy: 50ETF购2017年6月2.45 and buy 50ETF沽2017年6月2.45\n",
      "2017-06-28T00:00:00.000000000close buy: 50ETF购2017年6月2.45 and close buy 50ETF沽2017年6月2.45\n",
      "2017-07-04T00:00:00.000000000buy: 50ETF购2017年7月2.50 and buy 50ETF沽2017年7月2.50\n",
      "2017-07-26T00:00:00.000000000close buy: 50ETF购2017年7月2.50 and close buy 50ETF沽2017年7月2.50\n",
      "2017-07-27T00:00:00.000000000sell: 50ETF购2017年8月2.70 and sell 50ETF沽2017年8月2.70\n",
      "2017-08-23T00:00:00.000000000close sell: 50ETF购2017年8月2.70 and close sell 50ETF沽2017年8月2.70\n",
      "2017-08-24T00:00:00.000000000sell: 50ETF购2017年9月2.80 and sell 50ETF沽2017年9月2.80\n",
      "2017-09-14T00:00:00.000000000close sell: 50ETF购2017年9月2.80 and close sell 50ETF沽2017年9月2.80\n",
      "2017-09-18T00:00:00.000000000sell: 50ETF购2017年9月2.75 and sell 50ETF沽2017年9月2.75\n",
      "2017-09-19T00:00:00.000000000close sell: 50ETF购2017年9月2.75 and close sell 50ETF沽2017年9月2.75\n",
      "2017-09-25T00:00:00.000000000sell: 50ETF购2017年9月2.75 and sell 50ETF沽2017年9月2.75\n",
      "2017-09-27T00:00:00.000000000close sell: 50ETF购2017年9月2.75 and close sell 50ETF沽2017年9月2.75\n",
      "2017-10-23T00:00:00.000000000sell: 50ETF购2017年10月2.80 and sell 50ETF沽2017年10月2.80\n",
      "2017-10-25T00:00:00.000000000close sell: 50ETF购2017年10月2.80 and close sell 50ETF沽2017年10月2.80\n",
      "2017-10-26T00:00:00.000000000sell: 50ETF购2017年11月2.85 and sell 50ETF沽2017年11月2.85\n",
      "2017-11-22T00:00:00.000000000close sell: 50ETF购2017年11月2.85 and close sell 50ETF沽2017年11月2.85\n",
      "2017-11-30T00:00:00.000000000sell: 50ETF购2017年12月2.85 and sell 50ETF沽2017年12月2.85\n",
      "2017-12-27T00:00:00.000000000close sell: 50ETF购2017年12月2.85 and close sell 50ETF沽2017年12月2.85\n",
      "2018-01-15T00:00:00.000000000sell: 50ETF购2018年1月3.00 and sell 50ETF沽2018年1月3.00\n",
      "2018-01-16T00:00:00.000000000close sell: 50ETF购2018年1月3.00 and close sell 50ETF沽2018年1月3.00\n"
     ]
    },
    {
     "name": "stdout",
     "output_type": "stream",
     "text": [
      "2018-01-17T00:00:00.000000000sell: 50ETF购2018年1月3.10 and sell 50ETF沽2018年1月3.10\n",
      "2018-01-24T00:00:00.000000000close sell: 50ETF购2018年1月3.10 and close sell 50ETF沽2018年1月3.10\n",
      "2018-01-25T00:00:00.000000000sell: 50ETF购2018年2月3.20 and sell 50ETF沽2018年2月3.20\n",
      "2018-02-28T00:00:00.000000000close sell: 50ETF购2018年2月3.20 and close sell 50ETF沽2018年2月3.20\n",
      "2018-03-15T00:00:00.000000000buy: 50ETF购2018年3月2.90 and buy 50ETF沽2018年3月2.90\n",
      "2018-03-28T00:00:00.000000000close buy: 50ETF购2018年3月2.90 and close buy 50ETF沽2018年3月2.90\n",
      "2018-03-29T00:00:00.000000000sell: 50ETF购2018年4月2.75 and sell 50ETF沽2018年4月2.75\n",
      "2018-04-25T00:00:00.000000000close sell: 50ETF购2018年4月2.75 and close sell 50ETF沽2018年4月2.75\n",
      "2018-04-27T00:00:00.000000000sell: 50ETF购2018年5月2.65 and sell 50ETF沽2018年5月2.65\n",
      "2018-05-17T00:00:00.000000000close sell: 50ETF购2018年5月2.65 and close sell 50ETF沽2018年5月2.65\n",
      "2018-05-18T00:00:00.000000000sell: 50ETF购2018年5月2.70 and sell 50ETF沽2018年5月2.70\n",
      "2018-05-23T00:00:00.000000000close sell: 50ETF购2018年5月2.70 and close sell 50ETF沽2018年5月2.70\n",
      "2018-06-01T00:00:00.000000000sell: 50ETF购2018年6月2.65 and sell 50ETF沽2018年6月2.65\n",
      "2018-06-27T00:00:00.000000000close sell: 50ETF购2018年6月2.65 and close sell 50ETF沽2018年6月2.65\n",
      "2018-07-02T00:00:00.000000000sell: 50ETF购2018年7月2.40 and sell 50ETF沽2018年7月2.40\n",
      "2018-07-25T00:00:00.000000000close sell: 50ETF购2018年7月2.40 and close sell 50ETF沽2018年7月2.40\n",
      "2018-08-06T00:00:00.000000000sell: 50ETF购2018年8月2.45 and sell 50ETF沽2018年8月2.45\n",
      "2018-08-22T00:00:00.000000000close sell: 50ETF购2018年8月2.45 and close sell 50ETF沽2018年8月2.45\n",
      "2018-09-03T00:00:00.000000000sell: 50ETF购2018年9月2.50 and sell 50ETF沽2018年9月2.50\n",
      "2018-09-18T00:00:00.000000000close sell: 50ETF购2018年9月2.50 and close sell 50ETF沽2018年9月2.50\n"
     ]
    }
   ],
   "source": [
    "day=[]#提取对应日期\n",
    "for date in etf_option_name.date.values:\n",
    "    handle_ivx(date)\n",
    "    date=pd.to_datetime(str(date)).strftime('%Y-%m-%d') #date为字符串\n",
    "    date = datetime.strptime(date, \"%Y-%m-%d\")\n",
    "    day.append(date)"
   ]
  },
  {
   "cell_type": "code",
   "execution_count": 18,
   "metadata": {},
   "outputs": [],
   "source": [
    "DAY_MAX=len(total_money)\n",
    "def cacul_performance():#查看回测表现\n",
    "    \"\"\"\n",
    "    Calculate annualized return, Sharpe ratio, maximal drawdown, return volatility and sortino ratio\n",
    "    :return: annualized return, Sharpe ratio, maximal drawdown, return volatility and sortino ratio\n",
    "    \"\"\"\n",
    "    rtn = total_money[-1] / capital - 1\n",
    "    #return，为（每天资金变化/初始资金） - 1\n",
    "    annual_rtn = np.power(rtn + 1, 252.0 / DAY_MAX) - 1  #年化收益 复利\n",
    "    annual_rtn = rtn * 252 / DAY_MAX  # 单利\n",
    "    print(total_money)\n",
    "    annual_lst = [(total_money[k + 1] - total_money[k]) / total_money[k] for k in range(DAY_MAX - 1)]\n",
    "    annual_vol = np.array(annual_lst).std() * np.sqrt(252.0)\n",
    "\n",
    "    rf = 0.04#自己定义的risk free rate\n",
    "\n",
    "    semi_down_list = list(filter(lambda x: True if x < rf/252  else False, annual_lst))\n",
    "    # semi_down_list = [annual_lst[k] < rf / 252 for k in range(trade_period - 1)]\n",
    "    semi_down_vol = np.array(semi_down_list).std() * np.sqrt(252)\n",
    "    sharpe_ratio = (annual_rtn - rf) / annual_vol\n",
    "    sortino_ratio = (annual_rtn - rf) / semi_down_vol#把当天表现输给rf交易日的vol找出来\n",
    "\n",
    "    max_drawdown_ratio = 0\n",
    "    for e, i in enumerate(total_money):\n",
    "        for f, j in enumerate(total_money):\n",
    "            if f > e and float(j - i) / i < max_drawdown_ratio:\n",
    "                max_drawdown_ratio = float(j - i) / i #记录最大回撤\n",
    "\n",
    "    return annual_rtn, max_drawdown_ratio, annual_vol, sharpe_ratio, sortino_ratio"
   ]
  },
  {
   "cell_type": "code",
   "execution_count": 20,
   "metadata": {
    "scrolled": true
   },
   "outputs": [
    {
     "name": "stdout",
     "output_type": "stream",
     "text": [
      "[1000000.0, 1000000.0, 1000000.0, 999250.0, 987500.0, 985550.0, 988450.0, 984000.0, 987450.0, 987750.0, 988400.0, 982850.0, 979550.0, 980000.0, 975400.0, 969950.0, 967200.0, 962350.0, 964500.0, 964350.0, 976000.0, 986400.0, 1024150.0, 1014350.0, 1034900.0, 1049900.0, 1036500.0, 1019000.0, 1019000.0, 1019000.0, 1019000.0, 1019000.0, 1019000.0, 1019000.0, 1019000.0, 1019000.0, 1018250.0, 1015200.0, 1022050.0, 1021900.0, 1029800.0, 1024000.0, 978950.0, 955850.0, 998200.0, 985200.0, 938400.0, 937650.0, 940550.0, 948550.0, 954750.0, 956400.0, 960350.0, 974350.0, 979850.0, 980250.0, 973000.0, 981750.0, 1005650.0, 1009000.0, 1008400.0, 1016900.0, 1008450.0, 983450.0, 1029700.0, 1030050.0, 1049350.0, 1066000.0, 1060200.0, 1055950.0, 1075450.0, 1074700.0, 1068700.0, 1063250.0, 1054400.0, 1064200.0, 1059550.0, 1057150.0, 1021500.0, 1045200.0, 1064350.0, 1067400.0, 1075600.0, 1117100.0, 1137450.0, 1135350.0, 1156200.0, 1110200.0, 1153800.0, 1175250.0, 1174500.0, 1129500.0, 1093350.0, 1145350.0, 1136700.0, 1122700.0, 1103200.0, 1152700.0, 1177250.0, 1111600.0, 1175750.0, 1192100.0, 1213550.0, 1215000.0, 1215750.0, 1234950.0, 1265200.0, 1257700.0, 1254600.0, 1239950.0, 1239200.0, 1246900.0, 1320700.0, 1314750.0, 1303800.0, 1338600.0, 1335700.0, 1333000.0, 1289450.0, 1309150.0, 1312650.0, 1289250.0, 1247150.0, 1253950.0, 1256400.0, 1253750.0, 1255650.0, 1276000.0, 1338650.0, 1329400.0, 1344850.0, 1389450.0, 1506200.0, 1598300.0, 1560050.0, 1560050.0, 1560050.0, 1560050.0, 1559300.0, 1565150.0, 1584550.0, 1625250.0, 1632650.0, 1647400.0, 1650500.0, 1642900.0, 1645650.0, 1671850.0, 1669900.0, 1678600.0, 1690750.0, 1708250.0, 1687850.0, 1687100.0, 1677750.0, 1668800.0, 1672750.0, 1660550.0, 1654200.0, 1649150.0, 1662800.0, 1658700.0, 1648900.0, 1655000.0, 1654550.0, 1652400.0, 1656200.0, 1650500.0, 1655750.0, 1661450.0, 1665050.0, 1664400.0, 1640700.0, 1640700.0, 1640700.0, 1640700.0, 1640700.0, 1640700.0, 1640700.0, 1640700.0, 1640700.0, 1640700.0, 1640700.0, 1640700.0, 1640700.0, 1640700.0, 1640700.0, 1639950.0, 1648050.0, 1655250.0, 1659300.0, 1667500.0, 1666750.0, 1672950.0, 1643000.0, 1647350.0, 1649500.0, 1669000.0, 1667950.0, 1664400.0, 1670250.0, 1664000.0, 1669550.0, 1668600.0, 1668500.0, 1687550.0, 1689450.0, 1692100.0, 1701600.0, 1710900.0, 1711750.0, 1718550.0, 1720750.0, 1720750.0, 1720750.0, 1720750.0, 1720750.0, 1720000.0, 1720200.0, 1752600.0, 1748250.0, 1738750.0, 1794600.0, 1769100.0, 1803700.0, 1796250.0, 1802000.0, 1793100.0, 1821300.0, 1821900.0, 1795700.0, 1816000.0, 1839400.0, 1822250.0, 1823750.0, 1874750.0, 1875200.0, 1875200.0, 1875200.0, 1874450.0, 1868600.0, 1865850.0, 1865450.0, 1865450.0, 1855300.0, 1853900.0, 1852850.0, 1850550.0, 1844100.0, 1861000.0, 1850450.0, 1849300.0, 1848550.0, 1844550.0, 1844700.0, 1837800.0, 1849550.0, 1851850.0, 1868850.0, 1871250.0, 1869300.0, 1858500.0, 1850750.0, 1845950.0, 1851650.0, 1851150.0, 1859150.0, 1869150.0, 1879850.0, 1902350.0, 1889900.0, 1886450.0, 1886450.0, 1886450.0, 1886450.0, 1886450.0, 1886450.0, 1886450.0, 1886450.0, 1886450.0, 1886450.0, 1886450.0, 1886450.0, 1886450.0, 1886450.0, 1886450.0, 1886450.0, 1886450.0, 1886450.0, 1886450.0, 1886450.0, 1886450.0, 1886450.0, 1886450.0, 1886450.0, 1885700.0, 1889300.0, 1889300.0, 1889300.0, 1889300.0, 1889300.0, 1889300.0, 1888550.0, 1893700.0, 1898300.0, 1898400.0, 1901700.0, 1903350.0, 1907000.0, 1909300.0, 1909850.0, 1909100.0, 1913700.0, 1909000.0, 1908950.0, 1908200.0, 1909300.0, 1908150.0, 1881400.0, 1886700.0, 1889100.0, 1884300.0, 1890950.0, 1889600.0, 1892350.0, 1913750.0, 1910050.0, 1910800.0, 1913850.0, 1910800.0, 1910000.0, 1911000.0, 1907850.0, 1907100.0, 1907050.0, 1910600.0, 1912350.0, 1912750.0, 1913800.0, 1914800.0, 1905600.0, 1904350.0, 1905550.0, 1903550.0, 1907400.0, 1904450.0, 1883500.0, 1881300.0, 1884400.0, 1881200.0, 1880450.0, 1877850.0, 1877850.0, 1877850.0, 1877100.0, 1872600.0, 1877150.0, 1865950.0, 1865200.0, 1866050.0, 1868500.0, 1869500.0, 1871900.0, 1874100.0, 1875550.0, 1875550.0, 1875550.0, 1875550.0, 1875550.0, 1875550.0, 1874800.0, 1872950.0, 1873750.0, 1871850.0, 1875550.0, 1871100.0, 1871850.0, 1865700.0, 1864950.0, 1866900.0, 1868100.0, 1868100.0, 1866350.0, 1868150.0, 1868850.0, 1870150.0, 1870000.0, 1869700.0, 1871550.0, 1876300.0, 1881700.0, 1884400.0, 1884400.0, 1884400.0, 1883650.0, 1883850.0, 1878600.0, 1876100.0, 1881050.0, 1878050.0, 1880500.0, 1880500.0, 1879750.0, 1886350.0, 1887350.0, 1887350.0, 1887350.0, 1887350.0, 1886600.0, 1896800.0, 1898850.0, 1900400.0, 1904600.0, 1904600.0, 1903850.0, 1896450.0, 1896450.0, 1896450.0, 1896450.0, 1896450.0, 1895700.0, 1892050.0, 1893450.0, 1891550.0, 1892250.0, 1897650.0, 1896100.0, 1889600.0, 1887900.0, 1889950.0, 1891500.0, 1890050.0, 1894350.0, 1882800.0, 1874450.0, 1865350.0, 1864600.0, 1868300.0, 1864350.0, 1860250.0, 1864000.0, 1863500.0, 1867500.0, 1866450.0, 1868350.0, 1871400.0, 1875050.0, 1876050.0, 1874200.0, 1875050.0, 1873250.0, 1856050.0, 1854250.0, 1849500.0, 1840950.0, 1854550.0, 1851850.0, 1845400.0, 1855050.0, 1852650.0, 1843050.0, 1842300.0, 1842450.0, 1841300.0, 1839850.0, 1841950.0, 1845100.0, 1845100.0, 1848800.0, 1851100.0, 1851100.0, 1850350.0, 1859750.0, 1858350.0, 1865150.0, 1861300.0, 1868150.0, 1866600.0, 1868450.0, 1871000.0, 1871000.0, 1871000.0, 1871000.0, 1871000.0, 1871000.0, 1871000.0, 1871000.0, 1870250.0, 1870150.0, 1870150.0, 1869400.0, 1872900.0, 1872150.0, 1877200.0, 1877950.0, 1877950.0, 1877200.0, 1880500.0, 1881750.0, 1882300.0, 1884650.0, 1886050.0, 1888700.0, 1888650.0, 1890700.0, 1891050.0, 1892050.0, 1894350.0, 1895500.0, 1894550.0, 1894400.0, 1899800.0, 1901500.0, 1904500.0, 1899950.0, 1899950.0, 1899950.0, 1899200.0, 1899450.0, 1900500.0, 1901450.0, 1902900.0, 1899550.0, 1900100.0, 1901050.0, 1902650.0, 1902600.0, 1904150.0, 1905350.0, 1908000.0, 1910200.0, 1911200.0, 1906000.0, 1910450.0, 1913850.0, 1914350.0, 1918000.0, 1914350.0, 1914350.0, 1913600.0, 1914100.0, 1913150.0, 1911350.0, 1911350.0, 1911350.0, 1911350.0, 1911350.0, 1910600.0, 1911400.0, 1910100.0, 1910250.0, 1915400.0, 1916650.0, 1917450.0, 1914700.0, 1903300.0, 1899150.0, 1898400.0, 1894750.0, 1900300.0, 1906400.0, 1898750.0, 1888150.0, 1892150.0, 1902150.0, 1911550.0, 1917550.0, 1914150.0, 1914350.0, 1901000.0, 1894450.0, 1889550.0, 1905100.0, 1899750.0, 1908850.0, 1917000.0, 1925300.0, 1932800.0, 1937000.0, 1930000.0, 1930000.0, 1930000.0, 1930000.0, 1929250.0, 1939850.0, 1939650.0, 1937050.0, 1939550.0, 1951250.0, 1947500.0, 1964900.0, 1978450.0, 1985400.0, 1977100.0, 1997650.0, 2000800.0, 1988600.0, 1997650.0, 1987750.0, 1981750.0, 1981000.0, 1983200.0, 1984800.0, 1985100.0, 1986100.0, 1991250.0, 1992950.0, 1994150.0, 1996350.0, 1997500.0, 1995300.0, 1981200.0, 1992050.0, 1999600.0, 1995050.0, 2001800.0, 2008300.0, 2008350.0, 2018150.0, 2027050.0, 2026300.0, 2037750.0, 2038650.0, 2039700.0, 2041000.0, 2041050.0, 2041150.0, 2041550.0, 2044250.0, 2042700.0, 2041950.0, 2041750.0, 2039750.0, 2045550.0, 2045200.0, 2042200.0, 2042200.0, 2041450.0, 2041000.0, 2041000.0, 2041000.0, 2041000.0, 2040250.0, 2044450.0, 2033250.0, 2033250.0, 2033250.0, 2033250.0, 2033250.0, 2033250.0, 2033250.0, 2033250.0, 2033250.0, 2033250.0, 2033250.0, 2033250.0, 2033250.0, 2032500.0, 2035300.0, 2041850.0, 2041100.0, 2044350.0, 2045050.0, 2048050.0, 2050600.0, 2051100.0, 2052900.0, 2053050.0, 2050800.0, 2051500.0, 2050250.0, 2037950.0, 2034100.0, 2040950.0, 2047900.0, 2034050.0, 2013350.0, 2005050.0, 1979950.0, 1966800.0, 1966800.0, 1966800.0, 1966800.0, 1966800.0, 1966800.0, 1966050.0, 1969400.0, 1972500.0, 1960850.0, 1971050.0, 1982350.0, 1978850.0, 1971400.0, 1986700.0, 1980950.0, 1988800.0, 1997100.0, 1998500.0, 1986350.0, 1986950.0, 1979000.0, 1985000.0, 1987550.0, 1982900.0, 2022100.0, 2022100.0, 2022100.0, 2022100.0, 2022100.0, 2022100.0, 2022100.0, 2022100.0, 2022100.0, 2022100.0, 2022100.0, 2022100.0, 2021350.0, 2012900.0, 2012150.0, 2005400.0, 2003250.0, 2001850.0, 1984850.0, 1985250.0, 1984500.0, 1992700.0, 1983450.0, 1979600.0, 1991150.0, 1995900.0, 1999400.0, 2000000.0, 1977600.0, 1951800.0, 1920500.0, 1844300.0, 1851100.0, 1875600.0, 1887550.0, 1913250.0, 1930800.0, 1937700.0, 1910550.0, 1889650.0, 1889650.0, 1889650.0, 1889650.0, 1889650.0, 1889650.0, 1889650.0, 1889650.0, 1889650.0, 1889650.0, 1889650.0, 1888900.0, 1883750.0, 1885450.0, 1883200.0, 1880300.0, 1872400.0, 1903250.0, 1901250.0, 1898350.0, 1922600.0, 1921850.0, 1921900.0, 1924150.0, 1924600.0, 1927650.0, 1931800.0, 1939250.0, 1940950.0, 1943850.0, 1943750.0, 1933800.0, 1926250.0, 1935650.0, 1951600.0, 1937250.0, 1947100.0, 1973350.0, 1965900.0, 1965900.0, 1965150.0, 1965100.0, 1966050.0, 1966000.0, 1969550.0, 1970350.0, 1973450.0, 1974500.0, 1978250.0, 1973150.0, 1978100.0, 1991450.0, 1998400.0, 1997650.0, 2003000.0, 2012050.0, 2006500.0, 2006500.0, 2006500.0, 2006500.0, 2006500.0, 2006500.0, 2006500.0, 2005750.0, 2006950.0, 2009150.0, 2009600.0, 2010800.0, 2015700.0, 2015700.0, 2014850.0, 2018350.0, 2018650.0, 2018550.0, 2016250.0, 2025500.0, 2025300.0, 2029450.0, 2010150.0, 1995800.0, 1970550.0, 1970550.0, 1970550.0, 1969800.0, 1971800.0, 1970400.0, 1971100.0, 1974300.0, 1968500.0, 1970350.0, 1976150.0, 1967050.0, 1968000.0, 1977900.0, 1985450.0, 1990750.0, 1990600.0, 1965100.0, 1951150.0, 1933700.0, 1932800.0, 1932800.0, 1932800.0, 1932800.0, 1932800.0, 1932800.0, 1932800.0, 1932800.0, 1932050.0, 1923300.0, 1931650.0, 1921050.0, 1924500.0, 1934350.0, 1938800.0, 1948450.0, 1951050.0, 1957050.0, 1964800.0, 1964400.0, 1962100.0, 1962100.0, 1962100.0, 1962100.0, 1962100.0, 1962100.0, 1962100.0, 1962100.0, 1961350.0, 1960750.0, 1963250.0, 1962950.0, 1966450.0, 1966150.0, 1966400.0, 1965700.0, 1974900.0, 1981250.0, 1983150.0, 1990250.0, 1990250.0, 1990250.0]\n"
     ]
    }
   ],
   "source": [
    "backtest_return = total_money[-1] / capital - 1\n",
    "annulized, max_drawdown, rtn_vol, sharpe, sortino = cacul_performance()"
   ]
  },
  {
   "cell_type": "code",
   "execution_count": 21,
   "metadata": {},
   "outputs": [
    {
     "name": "stdout",
     "output_type": "stream",
     "text": [
      "Return: 99.03%\n",
      "Annualized Return: 28.20%\n",
      "Maximal Drawdown: -10.69%\n",
      "Annualized Vol: 14.78%\n",
      "Sharpe Ratio: 1.6371\n",
      "Sortino Ratio: 2.3588\n"
     ]
    }
   ],
   "source": [
    "## 回测绩效与绘图\n",
    "print('Return: %.2f%%' % (backtest_return * 100.0))\n",
    "print('Annualized Return: %.2f%%' % (annulized * 100.0))\n",
    "print('Maximal Drawdown: %.2f%%' % (max_drawdown * 100.0))\n",
    "print('Annualized Vol: %.2f%%' % (100.0 * rtn_vol))\n",
    "print('Sharpe Ratio: %.4f' % sharpe)\n",
    "print('Sortino Ratio: %.4f' % sortino)"
   ]
  },
  {
   "cell_type": "code",
   "execution_count": 22,
   "metadata": {},
   "outputs": [
    {
     "data": {
      "image/png": "[encoded data removed]",
      "text/plain": [
       "<Figure size 576x360 with 1 Axes>"
      ]
     },
     "metadata": {
      "needs_background": "light"
     },
     "output_type": "display_data"
    }
   ],
   "source": [
    "#sns.set_style('white')\n",
    "plt.figure(figsize=(8, 5))\n",
    "plt.plot(day, total_money[1:])\n",
    "plt.xlabel('Date')\n",
    "plt.ylabel('Money')\n",
    "plt.title('Money Curve')\n",
    "plt.grid(True)\n",
    "plt.savefig(\"result.png\")\n",
    "plt.show()"
   ]
  }
 ],
 "metadata": {
  "kernelspec": {
   "display_name": "Python 3",
   "language": "python",
   "name": "python3"
  },
  "language_info": {
   "codemirror_mode": {
    "name": "ipython",
    "version": 3
   },
   "file_extension": ".py",
   "mimetype": "text/x-python",
   "name": "python",
   "nbconvert_exporter": "python",
   "pygments_lexer": "ipython3",
   "version": "3.7.4"
  }
 },
 "nbformat": 4,
 "nbformat_minor": 4
}
